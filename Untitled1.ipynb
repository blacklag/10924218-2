{
  "nbformat": 4,
  "nbformat_minor": 0,
  "metadata": {
    "colab": {
      "provenance": [],
      "authorship_tag": "ABX9TyMchJmgSU9hTO1WxqswVbPd",
      "include_colab_link": true
    },
    "kernelspec": {
      "name": "python3",
      "display_name": "Python 3"
    },
    "language_info": {
      "name": "python"
    }
  },
  "cells": [
    {
      "cell_type": "markdown",
      "metadata": {
        "id": "view-in-github",
        "colab_type": "text"
      },
      "source": [
        "<a href=\"https://colab.research.google.com/github/blacklag/10924218-2/blob/main/Untitled1.ipynb\" target=\"_parent\"><img src=\"https://colab.research.google.com/assets/colab-badge.svg\" alt=\"Open In Colab\"/></a>"
      ]
    },
    {
      "cell_type": "code",
      "source": [
        "from random import randint"
      ],
      "metadata": {
        "id": "AMcHMeGUdo0N"
      },
      "execution_count": 12,
      "outputs": []
    },
    {
      "cell_type": "code",
      "source": [
        "#規定範圍並產生密碼\n",
        "lowest = 1\n",
        "highest = 100\n",
        "answer = randint(lowest, highest)"
      ],
      "metadata": {
        "id": "shbYhquFdpVg"
      },
      "execution_count": 13,
      "outputs": []
    },
    {
      "cell_type": "code",
      "source": [
        "#重複猜數字，直到猜對為止\n",
        "while True:\n",
        "    guess = input('密碼介於 ' + str(lowest) + '-' + str(highest) + ':\\n>>')\n",
        "\n",
        "    #檢查輸入的內容是否為數字\n",
        "    try:\n",
        "        guess = int(guess)  #把字串轉換成整數\n",
        "    except ValueError:  #轉換失敗便要求重新輸入數字\n",
        "        print('格式錯誤，請輸入數字\\n')\n",
        "        continue\n",
        "\n",
        "        #檢查輸入的數字是否介於規定範圍內\n",
        "    if guess <= lowest or guess >= highest:\n",
        "        print('請輸入 ' + str(lowest) + '-' + str(highest) + ' 之間的整數\\n')\n",
        "        continue\n",
        "\n",
        "        #判斷有沒有猜中密碼\n",
        "    if guess == answer:\n",
        "        print('答對了！')\n",
        "        break   #猜對才跳脫迴圈\n",
        "    elif guess < answer:\n",
        "        lowest = guess\n",
        "    else:\n",
        "        highest = guess"
      ],
      "metadata": {
        "colab": {
          "base_uri": "https://localhost:8080/"
        },
        "id": "lj-btv3ve_EC",
        "outputId": "d040bd45-4e31-4556-e7f8-ed10c876de95"
      },
      "execution_count": 14,
      "outputs": [
        {
          "output_type": "stream",
          "name": "stdout",
          "text": [
            "密碼介於 1-100:\n",
            ">>5\n",
            "密碼介於 5-100:\n",
            ">>20\n",
            "密碼介於 20-100:\n",
            ">>80\n",
            "密碼介於 20-80:\n",
            ">>85\n",
            "請輸入 20-80 之間的整數\n",
            "\n",
            "密碼介於 20-80:\n",
            ">>75\n",
            "密碼介於 20-75:\n",
            ">>60\n",
            "密碼介於 20-60:\n",
            ">>40\n",
            "密碼介於 20-40:\n",
            ">>25\n",
            "密碼介於 25-40:\n",
            ">>30\n",
            "密碼介於 30-40:\n",
            ">>35\n",
            "密碼介於 30-35:\n",
            ">>33\n",
            "密碼介於 33-35:\n",
            ">>34\n",
            "答對了！\n"
          ]
        }
      ]
    }
  ]
}